{
 "cells": [
  {
   "cell_type": "code",
   "execution_count": null,
   "id": "03600377",
   "metadata": {},
   "outputs": [],
   "source": [
    "%pip install webdriver-manager"
   ]
  },
  {
   "cell_type": "code",
   "execution_count": 1,
   "id": "b41bf018",
   "metadata": {},
   "outputs": [],
   "source": [
    "import pandas as pd\n",
    "import numpy as np\n",
    "import openpyxl\n",
    "from selenium import webdriver\n",
    "import requests as req\n",
    "from bs4 import BeautifulSoup as bs\n",
    "import json\n",
    "import re\n",
    "from webdriver_manager.chrome import ChromeDriverManager\n",
    "from selenium.webdriver.chrome.options import Options\n",
    "import time\n",
    "\n",
    "import warnings   # para quitar warnings\n",
    "warnings.simplefilter('ignore')"
   ]
  },
  {
   "cell_type": "code",
   "execution_count": 2,
   "id": "fa944a8e",
   "metadata": {},
   "outputs": [],
   "source": [
    "from src.functions import *"
   ]
  },
  {
   "cell_type": "code",
   "execution_count": 3,
   "id": "33911723",
   "metadata": {},
   "outputs": [],
   "source": [
    "import seaborn as sns\n",
    "import matplotlib.pyplot as plt"
   ]
  },
  {
   "cell_type": "markdown",
   "id": "462de4df",
   "metadata": {},
   "source": [
    "## 🥷WEB SCRPING - INE"
   ]
  },
  {
   "cell_type": "markdown",
   "id": "f23de9e1",
   "metadata": {},
   "source": [
    "Abrir la ventana nueva para hacer el scrapping"
   ]
  },
  {
   "cell_type": "code",
   "execution_count": 39,
   "id": "d551bcd9",
   "metadata": {
    "scrolled": true
   },
   "outputs": [
    {
     "name": "stderr",
     "output_type": "stream",
     "text": [
      "\n",
      "\n",
      "====== WebDriver manager ======\n",
      "Current google-chrome version is 97.0.4692\n",
      "Get LATEST chromedriver version for 97.0.4692 google-chrome\n",
      "Driver [/Users/marilyngutierrez/.wdm/drivers/chromedriver/mac64/97.0.4692.71/chromedriver] found in cache\n"
     ]
    }
   ],
   "source": [
    "from webdriver_manager.chrome import ChromeDriverManager\n",
    "driver = webdriver.Chrome(ChromeDriverManager().install())"
   ]
  },
  {
   "cell_type": "markdown",
   "id": "4000b6c1",
   "metadata": {},
   "source": [
    "Url de donde extraigo los datos"
   ]
  },
  {
   "cell_type": "code",
   "execution_count": 40,
   "id": "1d4cdef6",
   "metadata": {},
   "outputs": [],
   "source": [
    "driver.get(\"https://www.ine.es/\")"
   ]
  },
  {
   "cell_type": "markdown",
   "id": "25b27a51",
   "metadata": {},
   "source": [
    "Buscar el input / Click en el buscador / Esperar 2 segundos para escribir / Escribir la palabra que quiero buscar"
   ]
  },
  {
   "cell_type": "code",
   "execution_count": 41,
   "id": "bb150cc8",
   "metadata": {},
   "outputs": [],
   "source": [
    "escribir = driver.find_element_by_xpath('//input[@id=\"searchString\"]')\n",
    "escribir.click()\n",
    "time.sleep(2)\n",
    "escribir.send_keys('tabaco')"
   ]
  },
  {
   "cell_type": "markdown",
   "id": "88828b0f",
   "metadata": {},
   "source": [
    "Seleccionar el botón lupa para buscar / Hacer click para buscar"
   ]
  },
  {
   "cell_type": "code",
   "execution_count": 42,
   "id": "3342ed42",
   "metadata": {},
   "outputs": [],
   "source": [
    "buscar = driver.find_element_by_xpath('//button[@id=\"Menu_botonBuscador\"]')\n",
    "buscar.click()"
   ]
  },
  {
   "cell_type": "markdown",
   "id": "7e95936a",
   "metadata": {},
   "source": [
    "Selecciono el primer enlace"
   ]
  },
  {
   "cell_type": "code",
   "execution_count": 43,
   "id": "810bc43f",
   "metadata": {},
   "outputs": [],
   "source": [
    "enlace = driver.find_element_by_xpath('//*[@id=\"tabsResult\"]/ul/li[1]/ul/li[1]/a/span[3]')\n",
    "enlace.click()"
   ]
  },
  {
   "cell_type": "markdown",
   "id": "e2686177",
   "metadata": {},
   "source": [
    "Cambia a la venta nueva que se ha abierto y espera dos segundos"
   ]
  },
  {
   "cell_type": "code",
   "execution_count": 44,
   "id": "805645e4",
   "metadata": {},
   "outputs": [],
   "source": [
    "driver.switch_to.window(driver.window_handles[1])\n",
    "time.sleep(2)"
   ]
  },
  {
   "cell_type": "markdown",
   "id": "9db8c584",
   "metadata": {},
   "source": [
    "Acepta las cookies para quitar ese cuadro de diálogo"
   ]
  },
  {
   "cell_type": "code",
   "execution_count": 45,
   "id": "a2a883f1",
   "metadata": {},
   "outputs": [],
   "source": [
    "cookies = driver.find_element_by_xpath('//*[@id=\"aceptarCookie\"]')\n",
    "cookies.click()"
   ]
  },
  {
   "cell_type": "markdown",
   "id": "030c9eb1",
   "metadata": {},
   "source": [
    "Click en botón para visualizar tabla"
   ]
  },
  {
   "cell_type": "code",
   "execution_count": 46,
   "id": "df46832b",
   "metadata": {},
   "outputs": [],
   "source": [
    "verTabla = driver.find_element_by_xpath('//*[@id=\"botonConsulSele\"]')\n",
    "verTabla.click()"
   ]
  },
  {
   "cell_type": "code",
   "execution_count": null,
   "id": "022376de",
   "metadata": {},
   "outputs": [],
   "source": [
    "#Volver a la ventana principal\n",
    "#driver.switch_to.window(driver.window_handles[0])"
   ]
  },
  {
   "cell_type": "markdown",
   "id": "4fe3f9ee",
   "metadata": {},
   "source": [
    "Extraer la tabla, solo trae el esquema no los datos"
   ]
  },
  {
   "cell_type": "code",
   "execution_count": 47,
   "id": "c7615994",
   "metadata": {},
   "outputs": [],
   "source": [
    "tabla=driver.find_element_by_tag_name('tbody')\n",
    "filas=tabla.find_elements_by_tag_name('tr')"
   ]
  },
  {
   "cell_type": "markdown",
   "id": "47165881",
   "metadata": {},
   "source": [
    "Se realizan bucles para traer todos los datos"
   ]
  },
  {
   "cell_type": "code",
   "execution_count": 48,
   "id": "55ae1a91",
   "metadata": {},
   "outputs": [],
   "source": [
    "data=[[e.text for e in f.find_elements_by_tag_name('td')] for f in filas]\n",
    "cabeceras=driver.find_element_by_tag_name('thead')\n",
    "cabeceras=[c.text for c in cabeceras.find_elements_by_tag_name('th')]\n",
    "\n",
    "#driver.quit()"
   ]
  },
  {
   "cell_type": "markdown",
   "id": "a4f8382c",
   "metadata": {},
   "source": [
    "Convertir la tabla en dataframe para trabajar con ella"
   ]
  },
  {
   "cell_type": "code",
   "execution_count": 49,
   "id": "025399de",
   "metadata": {},
   "outputs": [],
   "source": [
    "tablaCompleta = pd.DataFrame(data)\n",
    "#tablaCompleta"
   ]
  },
  {
   "cell_type": "markdown",
   "id": "be8fee87",
   "metadata": {},
   "source": [
    "La tabla tiene celdas combinadas, así que se pierden los títulos, pasádole un diccionario se vuelven a redefinir"
   ]
  },
  {
   "cell_type": "code",
   "execution_count": 50,
   "id": "51cb86e2",
   "metadata": {},
   "outputs": [
    {
     "data": {
      "text/plain": [
       "Index(['Porcentaje_Pandemia', 'Fumador_Diario_Pandemia',\n",
       "       'Fumador_Ocasional_Pandemia', 'No_Fumador_Pandemia', 'Porcentaje_Antes',\n",
       "       'Fumador_Diario_Antes', 'Fumador_Ocasional_Antes', 'No_Fumador_Antes'],\n",
       "      dtype='object')"
      ]
     },
     "execution_count": 50,
     "metadata": {},
     "output_type": "execute_result"
    }
   ],
   "source": [
    "tabla_Completa = tablaCompleta.rename(columns={0:'Porcentaje_Pandemia',\n",
    "                                   1:'Fumador_Diario_Pandemia',\n",
    "                                2:'Fumador_Ocasional_Pandemia',\n",
    "                                3:'No_Fumador_Pandemia',\n",
    "                                4:'Porcentaje_Antes',\n",
    "                                5:'Fumador_Diario_Antes',\n",
    "                                6:'Fumador_Ocasional_Antes',\n",
    "                                7:'No_Fumador_Antes'})\n",
    "\n",
    "tabla_Completa.columns"
   ]
  },
  {
   "cell_type": "markdown",
   "id": "b730da33",
   "metadata": {},
   "source": [
    "Añade nueva columna con los nombres de los grupos de datos"
   ]
  },
  {
   "cell_type": "code",
   "execution_count": 51,
   "id": "4f5b83e1",
   "metadata": {},
   "outputs": [],
   "source": [
    "tabla_Completa.insert(0,\"Grupos\",['Ambos','Total1','15-44A','45-54A','65+A','Hombres','Total2','15-44H','45-54H','65+H','Mujeres','Total3','15-44M','45-54M','65+M'],True)"
   ]
  },
  {
   "cell_type": "code",
   "execution_count": null,
   "id": "70b0e20e",
   "metadata": {},
   "outputs": [],
   "source": [
    "#tabla_Completa"
   ]
  },
  {
   "cell_type": "markdown",
   "id": "4a4ff238",
   "metadata": {},
   "source": [
    "Borra las filas que no son necesarias"
   ]
  },
  {
   "cell_type": "code",
   "execution_count": 52,
   "id": "52f06999",
   "metadata": {},
   "outputs": [],
   "source": [
    "tabla_Completa.drop([0,5,6,7,8,9,10,11,12,13,14],axis=0, inplace=True)"
   ]
  },
  {
   "cell_type": "markdown",
   "id": "2b750fdd",
   "metadata": {},
   "source": [
    "Cambiar el índice por los nombres de los grupos y elimina el índice por defecto"
   ]
  },
  {
   "cell_type": "code",
   "execution_count": 53,
   "id": "128a0948",
   "metadata": {},
   "outputs": [],
   "source": [
    "tabla_Completa.set_index('Grupos', drop=True, inplace=True, verify_integrity=True)"
   ]
  },
  {
   "cell_type": "markdown",
   "id": "5f1b4b5b",
   "metadata": {},
   "source": [
    "### Visualizaciones"
   ]
  },
  {
   "cell_type": "code",
   "execution_count": null,
   "id": "dff34651",
   "metadata": {},
   "outputs": [],
   "source": []
  },
  {
   "cell_type": "code",
   "execution_count": null,
   "id": "80910498",
   "metadata": {},
   "outputs": [],
   "source": []
  },
  {
   "cell_type": "code",
   "execution_count": null,
   "id": "555e3ada",
   "metadata": {},
   "outputs": [],
   "source": []
  },
  {
   "cell_type": "code",
   "execution_count": null,
   "id": "b33b1d1c",
   "metadata": {},
   "outputs": [],
   "source": []
  },
  {
   "cell_type": "code",
   "execution_count": null,
   "id": "40a23596",
   "metadata": {},
   "outputs": [],
   "source": []
  },
  {
   "cell_type": "markdown",
   "id": "88137618",
   "metadata": {},
   "source": [
    "Guardar en formato JSON la tabla"
   ]
  },
  {
   "cell_type": "code",
   "execution_count": null,
   "id": "8fac16b6",
   "metadata": {},
   "outputs": [],
   "source": [
    "tabla_Completa.to_json(\"data/grupos.json\", orient = 'columns')"
   ]
  },
  {
   "cell_type": "markdown",
   "id": "9a10a1de",
   "metadata": {},
   "source": [
    "Función definida en el archivo 'src/functions.py'"
   ]
  },
  {
   "cell_type": "code",
   "execution_count": null,
   "id": "be1a3bdc",
   "metadata": {},
   "outputs": [],
   "source": [
    "#scraping()⚠️ No funciona llamándola desde el archivo de funciones"
   ]
  },
  {
   "cell_type": "markdown",
   "id": "f9e88603",
   "metadata": {},
   "source": [
    "##  📂UTILIZACIÓN DE ARCHIVOS CSV"
   ]
  },
  {
   "cell_type": "code",
   "execution_count": null,
   "id": "a150fa8d",
   "metadata": {},
   "outputs": [],
   "source": [
    "#_____ NO LO UTILIZO - APUNTES PARA ARCHIVOS EXCEL ________________________________\n",
    "\n",
    "#Traer el archivo\n",
    "#excel = pd.ExcelFile('data/2018-2019_Comunidades euros.xlsx')\n",
    "#Ver las hojas que tiene el archivo\n",
    "#excel.sheet_names\n",
    "#Visualizar la hoja en cuestión\n",
    "#excel.parse('Hoja1')"
   ]
  },
  {
   "cell_type": "markdown",
   "id": "bbe1f347",
   "metadata": {},
   "source": [
    "Traer CSV, la separación puede ser por comas o punto y coma. \n",
    "#### AÑOS 2018 Y 2019 - ANTES DE LA PANDEMIA"
   ]
  },
  {
   "cell_type": "markdown",
   "id": "7c9b3399",
   "metadata": {},
   "source": [
    "Función para convertir la columna de datos totales de tipo object a tipo int y poder operar con ella"
   ]
  },
  {
   "cell_type": "code",
   "execution_count": 4,
   "id": "d6adf6c7",
   "metadata": {},
   "outputs": [],
   "source": [
    "def cambiar(i):\n",
    "    x = i.replace('.','')\n",
    "    return int(x)"
   ]
  },
  {
   "cell_type": "code",
   "execution_count": 5,
   "id": "af242a73",
   "metadata": {},
   "outputs": [],
   "source": [
    "csv1 = pd.read_csv('data/2018-2019_Comunidades euros.csv', sep=';')\n",
    "#csv1"
   ]
  },
  {
   "cell_type": "markdown",
   "id": "bf7c3e5e",
   "metadata": {},
   "source": [
    "Borra las columnas que no son necesarias"
   ]
  },
  {
   "cell_type": "code",
   "execution_count": 6,
   "id": "33b6e263",
   "metadata": {},
   "outputs": [],
   "source": [
    "new_one = csv1.drop(['CIGARRILLOS2019','CIGARROS2019','P. LIAR2019','P. PIPA2019','CIGARRILLOS2018','CIGARROS2018','P. LIAR2018','P. PIPA2018'],axis=1)\n",
    "#new_one"
   ]
  },
  {
   "cell_type": "markdown",
   "id": "6b6991e9",
   "metadata": {},
   "source": [
    "Reemplaza la columna object por la columna int pasándole la función definida al inicio de este bloque csv"
   ]
  },
  {
   "cell_type": "code",
   "execution_count": 7,
   "id": "25624073",
   "metadata": {},
   "outputs": [],
   "source": [
    "new_one['TOTALES2019'] = new_one['TOTALES2019'].apply(cambiar)"
   ]
  },
  {
   "cell_type": "code",
   "execution_count": 8,
   "id": "4a1d337a",
   "metadata": {},
   "outputs": [],
   "source": [
    "new_one['TOTALES2018'] = new_one['TOTALES2018'].apply(cambiar)"
   ]
  },
  {
   "cell_type": "code",
   "execution_count": null,
   "id": "c318d054",
   "metadata": {},
   "outputs": [],
   "source": [
    "#new_one"
   ]
  },
  {
   "cell_type": "markdown",
   "id": "39a203a5",
   "metadata": {},
   "source": [
    "#### AÑOS 2020 Y 2021 - DURANTE LA PANDEMIA"
   ]
  },
  {
   "cell_type": "code",
   "execution_count": 9,
   "id": "4939a696",
   "metadata": {},
   "outputs": [],
   "source": [
    "csv2 = pd.read_csv('data/2020-2021_Comunidades-euros.csv', sep=';')"
   ]
  },
  {
   "cell_type": "markdown",
   "id": "99cbec12",
   "metadata": {},
   "source": [
    "Borra las columnas que no son necesarias"
   ]
  },
  {
   "cell_type": "code",
   "execution_count": 10,
   "id": "fab7ec9c",
   "metadata": {},
   "outputs": [],
   "source": [
    "new_two = csv2.drop(['CIGARRILLOS2021','CIGARROS2021','P. LIAR2021','P. PIPA2021','CIGARRILLOS2020','CIGARROS2020','P. LIAR2020','P. PIPA2020'],axis=1)\n",
    "#new_two"
   ]
  },
  {
   "cell_type": "markdown",
   "id": "7c7143ef",
   "metadata": {},
   "source": [
    "Reemplaza la columna object por la columna int pasándole la función definida al inicio de este bloque csv"
   ]
  },
  {
   "cell_type": "code",
   "execution_count": 11,
   "id": "49544f7a",
   "metadata": {},
   "outputs": [],
   "source": [
    "new_two['TOTALES2021'] = new_two['TOTALES2021'].apply(cambiar)"
   ]
  },
  {
   "cell_type": "markdown",
   "id": "738d2569",
   "metadata": {},
   "source": [
    "Reemplaza la columna object por la columna int pasándole la función definida al inicio de este bloque csv"
   ]
  },
  {
   "cell_type": "code",
   "execution_count": 12,
   "id": "04272ab2",
   "metadata": {},
   "outputs": [],
   "source": [
    "new_two['TOTALES2020'] = new_two['TOTALES2020'].apply(cambiar)\n",
    "#new_two"
   ]
  },
  {
   "cell_type": "markdown",
   "id": "80030867",
   "metadata": {},
   "source": [
    "Juntar en un mismo dataframe las facturaciones de las CCAA por años"
   ]
  },
  {
   "cell_type": "code",
   "execution_count": 13,
   "id": "26dd5001",
   "metadata": {},
   "outputs": [],
   "source": [
    "new_one.insert(1, \"TOTALES2020\", new_two['TOTALES2020'])"
   ]
  },
  {
   "cell_type": "code",
   "execution_count": 14,
   "id": "08b44745",
   "metadata": {},
   "outputs": [],
   "source": [
    "new_one.insert(1, \"TOTALES2021\", new_two['TOTALES2021'])"
   ]
  },
  {
   "cell_type": "markdown",
   "id": "d9ad6770",
   "metadata": {},
   "source": [
    "Añade columna de id para mejor manejo en BBDD"
   ]
  },
  {
   "cell_type": "code",
   "execution_count": null,
   "id": "32ed330f",
   "metadata": {},
   "outputs": [],
   "source": [
    "new_one.insert(0, \"id\", [0,1,2,3,4,5,6,7,8,9,10,11,12,13,14,15])"
   ]
  },
  {
   "cell_type": "code",
   "execution_count": 15,
   "id": "565c24c8",
   "metadata": {},
   "outputs": [
    {
     "data": {
      "text/html": [
       "<div>\n",
       "<style scoped>\n",
       "    .dataframe tbody tr th:only-of-type {\n",
       "        vertical-align: middle;\n",
       "    }\n",
       "\n",
       "    .dataframe tbody tr th {\n",
       "        vertical-align: top;\n",
       "    }\n",
       "\n",
       "    .dataframe thead th {\n",
       "        text-align: right;\n",
       "    }\n",
       "</style>\n",
       "<table border=\"1\" class=\"dataframe\">\n",
       "  <thead>\n",
       "    <tr style=\"text-align: right;\">\n",
       "      <th></th>\n",
       "      <th>COMUNIDAD</th>\n",
       "      <th>TOTALES2021</th>\n",
       "      <th>TOTALES2020</th>\n",
       "      <th>TOTALES2019</th>\n",
       "      <th>TOTALES2018</th>\n",
       "    </tr>\n",
       "  </thead>\n",
       "  <tbody>\n",
       "    <tr>\n",
       "      <th>0</th>\n",
       "      <td>Andalucía</td>\n",
       "      <td>1906290653</td>\n",
       "      <td>1842203340</td>\n",
       "      <td>1902995948</td>\n",
       "      <td>1839657868</td>\n",
       "    </tr>\n",
       "    <tr>\n",
       "      <th>1</th>\n",
       "      <td>Aragón</td>\n",
       "      <td>350321393</td>\n",
       "      <td>352976234</td>\n",
       "      <td>367348652</td>\n",
       "      <td>368119456</td>\n",
       "    </tr>\n",
       "    <tr>\n",
       "      <th>2</th>\n",
       "      <td>Asturias (Principado de)</td>\n",
       "      <td>260145753</td>\n",
       "      <td>263785771</td>\n",
       "      <td>270830551</td>\n",
       "      <td>278186850</td>\n",
       "    </tr>\n",
       "    <tr>\n",
       "      <th>3</th>\n",
       "      <td>Balears (Illes)</td>\n",
       "      <td>346027976</td>\n",
       "      <td>309911470</td>\n",
       "      <td>473864186</td>\n",
       "      <td>478575572</td>\n",
       "    </tr>\n",
       "    <tr>\n",
       "      <th>4</th>\n",
       "      <td>Cantabria</td>\n",
       "      <td>152536342</td>\n",
       "      <td>152539316</td>\n",
       "      <td>159280394</td>\n",
       "      <td>161665199</td>\n",
       "    </tr>\n",
       "    <tr>\n",
       "      <th>5</th>\n",
       "      <td>Castilla y León</td>\n",
       "      <td>594314364</td>\n",
       "      <td>588445139</td>\n",
       "      <td>613657789</td>\n",
       "      <td>622572271</td>\n",
       "    </tr>\n",
       "    <tr>\n",
       "      <th>6</th>\n",
       "      <td>Castilla-La Mancha</td>\n",
       "      <td>529011574</td>\n",
       "      <td>520539057</td>\n",
       "      <td>525047442</td>\n",
       "      <td>521695856</td>\n",
       "    </tr>\n",
       "    <tr>\n",
       "      <th>7</th>\n",
       "      <td>Cataluña</td>\n",
       "      <td>2248130696</td>\n",
       "      <td>2132069196</td>\n",
       "      <td>2317438514</td>\n",
       "      <td>2264274637</td>\n",
       "    </tr>\n",
       "    <tr>\n",
       "      <th>8</th>\n",
       "      <td>Comunidad Valenciana</td>\n",
       "      <td>1315762076</td>\n",
       "      <td>1321926472</td>\n",
       "      <td>1475664086</td>\n",
       "      <td>1465219502</td>\n",
       "    </tr>\n",
       "    <tr>\n",
       "      <th>9</th>\n",
       "      <td>Extremadura</td>\n",
       "      <td>269927208</td>\n",
       "      <td>267065029</td>\n",
       "      <td>274857399</td>\n",
       "      <td>274217775</td>\n",
       "    </tr>\n",
       "    <tr>\n",
       "      <th>10</th>\n",
       "      <td>Galicia</td>\n",
       "      <td>616843170</td>\n",
       "      <td>621582616</td>\n",
       "      <td>641388775</td>\n",
       "      <td>650235071</td>\n",
       "    </tr>\n",
       "    <tr>\n",
       "      <th>11</th>\n",
       "      <td>Madrid (Comunidad de)</td>\n",
       "      <td>1424743638</td>\n",
       "      <td>1407969503</td>\n",
       "      <td>1471179963</td>\n",
       "      <td>1474143967</td>\n",
       "    </tr>\n",
       "    <tr>\n",
       "      <th>12</th>\n",
       "      <td>Murcia (Región de)</td>\n",
       "      <td>384270571</td>\n",
       "      <td>378804987</td>\n",
       "      <td>394194059</td>\n",
       "      <td>396298780</td>\n",
       "    </tr>\n",
       "    <tr>\n",
       "      <th>13</th>\n",
       "      <td>Navarra (Comunidad Foral de)</td>\n",
       "      <td>260707855</td>\n",
       "      <td>232369117</td>\n",
       "      <td>257901798</td>\n",
       "      <td>246698326</td>\n",
       "    </tr>\n",
       "    <tr>\n",
       "      <th>14</th>\n",
       "      <td>País Vasco</td>\n",
       "      <td>588208926</td>\n",
       "      <td>594685295</td>\n",
       "      <td>636484819</td>\n",
       "      <td>627024092</td>\n",
       "    </tr>\n",
       "    <tr>\n",
       "      <th>15</th>\n",
       "      <td>Rioja (La)</td>\n",
       "      <td>80541036</td>\n",
       "      <td>80326418</td>\n",
       "      <td>82959461</td>\n",
       "      <td>84372356</td>\n",
       "    </tr>\n",
       "  </tbody>\n",
       "</table>\n",
       "</div>"
      ],
      "text/plain": [
       "                       COMUNIDAD  TOTALES2021  TOTALES2020  TOTALES2019  \\\n",
       "0                      Andalucía   1906290653   1842203340   1902995948   \n",
       "1                         Aragón    350321393    352976234    367348652   \n",
       "2       Asturias (Principado de)    260145753    263785771    270830551   \n",
       "3                Balears (Illes)    346027976    309911470    473864186   \n",
       "4                      Cantabria    152536342    152539316    159280394   \n",
       "5                Castilla y León    594314364    588445139    613657789   \n",
       "6             Castilla-La Mancha    529011574    520539057    525047442   \n",
       "7                       Cataluña   2248130696   2132069196   2317438514   \n",
       "8           Comunidad Valenciana   1315762076   1321926472   1475664086   \n",
       "9                    Extremadura    269927208    267065029    274857399   \n",
       "10                       Galicia    616843170    621582616    641388775   \n",
       "11         Madrid (Comunidad de)   1424743638   1407969503   1471179963   \n",
       "12            Murcia (Región de)    384270571    378804987    394194059   \n",
       "13  Navarra (Comunidad Foral de)    260707855    232369117    257901798   \n",
       "14                    País Vasco    588208926    594685295    636484819   \n",
       "15                    Rioja (La)     80541036     80326418     82959461   \n",
       "\n",
       "    TOTALES2018  \n",
       "0    1839657868  \n",
       "1     368119456  \n",
       "2     278186850  \n",
       "3     478575572  \n",
       "4     161665199  \n",
       "5     622572271  \n",
       "6     521695856  \n",
       "7    2264274637  \n",
       "8    1465219502  \n",
       "9     274217775  \n",
       "10    650235071  \n",
       "11   1474143967  \n",
       "12    396298780  \n",
       "13    246698326  \n",
       "14    627024092  \n",
       "15     84372356  "
      ]
     },
     "execution_count": 15,
     "metadata": {},
     "output_type": "execute_result"
    }
   ],
   "source": [
    "new_one"
   ]
  },
  {
   "cell_type": "markdown",
   "id": "4a3e7113",
   "metadata": {},
   "source": [
    "Totalizar cada una de las columnas"
   ]
  },
  {
   "cell_type": "code",
   "execution_count": null,
   "id": "c23421fe",
   "metadata": {},
   "outputs": [],
   "source": [
    "uno = new_one['TOTALES2021'].sum()\n",
    "cero = new_one['TOTALES2020'].sum()\n",
    "nueve = new_one['TOTALES2019'].sum()\n",
    "ocho = new_one['TOTALES2018'].sum()"
   ]
  },
  {
   "cell_type": "markdown",
   "id": "e88460cb",
   "metadata": {},
   "source": [
    "Crear una nueva fila que contenga los totales por años"
   ]
  },
  {
   "cell_type": "code",
   "execution_count": null,
   "id": "d089bb82",
   "metadata": {},
   "outputs": [],
   "source": [
    "new_one.loc[16]=[16,'TotalCCAA', uno, cero,nueve,ocho]"
   ]
  },
  {
   "cell_type": "code",
   "execution_count": null,
   "id": "386366ce",
   "metadata": {},
   "outputs": [],
   "source": [
    "new_one"
   ]
  },
  {
   "cell_type": "markdown",
   "id": "1268859f",
   "metadata": {},
   "source": [
    "Guardar el dataframe en json para almacenar en BBDD (utilizado Mongo)"
   ]
  },
  {
   "cell_type": "code",
   "execution_count": null,
   "id": "391ad648",
   "metadata": {},
   "outputs": [],
   "source": [
    "new_one.to_json(\"data/new_one.json\", orient = 'records')"
   ]
  },
  {
   "cell_type": "markdown",
   "id": "166fc71e",
   "metadata": {},
   "source": [
    "### Visualización"
   ]
  },
  {
   "cell_type": "markdown",
   "id": "293a04a6",
   "metadata": {},
   "source": [
    "Se hace la visualización antes de totalizar cada uno de los años"
   ]
  },
  {
   "cell_type": "code",
   "execution_count": 36,
   "id": "083d67e8",
   "metadata": {},
   "outputs": [
    {
     "data": {
      "image/png": "[encoded data removed]",
      "text/plain": [
       "<Figure size 1296x576 with 1 Axes>"
      ]
     },
     "metadata": {
      "needs_background": "light"
     },
     "output_type": "display_data"
    }
   ],
   "source": [
    "xlabels = ['Andalucía','Aragón','Asturias','Balears','Cantabria','Castilla y León','Castilla-La Mancha','Cataluña','Comunidad Valenciana','Extremadura','Galicia','Madrid','Murcia','Navarra','País Vasco','Rioja']\n",
    "graphic = new_one.iloc[0:].plot.bar(figsize=(18,8));\n",
    "\n",
    "graphic.set_xticklabels(xlabels, rotation=45);\n"
   ]
  },
  {
   "cell_type": "markdown",
   "id": "a0d19a42",
   "metadata": {},
   "source": [
    "## 💰 UTILIZACIÓN DE API - AFILIACIÓN S.S."
   ]
  },
  {
   "cell_type": "markdown",
   "id": "cd4caddd",
   "metadata": {},
   "source": [
    "Llamo a la función definida en el archivo de 'src/functions.py'"
   ]
  },
  {
   "cell_type": "code",
   "execution_count": null,
   "id": "37e50a48",
   "metadata": {},
   "outputs": [],
   "source": [
    "datos()"
   ]
  },
  {
   "cell_type": "markdown",
   "id": "4d1ee097",
   "metadata": {},
   "source": [
    "Conversión a dataframe"
   ]
  },
  {
   "cell_type": "code",
   "execution_count": null,
   "id": "9faf285c",
   "metadata": {},
   "outputs": [],
   "source": [
    "afiliados = pd.DataFrame(datos(),index=[0])\n",
    "#afiliados"
   ]
  },
  {
   "cell_type": "markdown",
   "id": "8132e0a3",
   "metadata": {},
   "source": [
    "Hace una media de los tres años para obtener datos del 2021. Inserta la nueva columna en la primera posición"
   ]
  },
  {
   "cell_type": "code",
   "execution_count": null,
   "id": "44dd82b2",
   "metadata": {},
   "outputs": [],
   "source": [
    "afiliados.insert(0,\"2021\",round(afiliados.iloc[0].mean(),1),True)"
   ]
  },
  {
   "cell_type": "code",
   "execution_count": null,
   "id": "95af2b07",
   "metadata": {},
   "outputs": [],
   "source": [
    "afiliados"
   ]
  },
  {
   "cell_type": "markdown",
   "id": "d0014747",
   "metadata": {},
   "source": [
    "Guardar el dataframe en formato json"
   ]
  },
  {
   "cell_type": "code",
   "execution_count": null,
   "id": "bf5fd9e9",
   "metadata": {},
   "outputs": [],
   "source": [
    "afiliados.to_json(\"data/afiliados.json\", orient = 'columns')"
   ]
  },
  {
   "cell_type": "code",
   "execution_count": 37,
   "id": "a61f5f7c",
   "metadata": {},
   "outputs": [
    {
     "data": {
      "text/html": [
       "<div>\n",
       "<style scoped>\n",
       "    .dataframe tbody tr th:only-of-type {\n",
       "        vertical-align: middle;\n",
       "    }\n",
       "\n",
       "    .dataframe tbody tr th {\n",
       "        vertical-align: top;\n",
       "    }\n",
       "\n",
       "    .dataframe thead th {\n",
       "        text-align: right;\n",
       "    }\n",
       "</style>\n",
       "<table border=\"1\" class=\"dataframe\">\n",
       "  <thead>\n",
       "    <tr style=\"text-align: right;\">\n",
       "      <th></th>\n",
       "      <th>2021</th>\n",
       "      <th>2020</th>\n",
       "      <th>2019</th>\n",
       "      <th>2018</th>\n",
       "    </tr>\n",
       "  </thead>\n",
       "  <tbody>\n",
       "    <tr>\n",
       "      <th>0</th>\n",
       "      <td>22855.7</td>\n",
       "      <td>22733.3</td>\n",
       "      <td>23027.1</td>\n",
       "      <td>22806.8</td>\n",
       "    </tr>\n",
       "  </tbody>\n",
       "</table>\n",
       "</div>"
      ],
      "text/plain": [
       "      2021     2020     2019     2018\n",
       "0  22855.7  22733.3  23027.1  22806.8"
      ]
     },
     "execution_count": 37,
     "metadata": {},
     "output_type": "execute_result"
    }
   ],
   "source": [
    "datos = pd.read_json(\"data/afiliados.json\", orient='records')\n",
    "datos"
   ]
  },
  {
   "cell_type": "markdown",
   "id": "b02c30b3",
   "metadata": {},
   "source": [
    "### Visualización"
   ]
  },
  {
   "cell_type": "code",
   "execution_count": 38,
   "id": "31fc11a4",
   "metadata": {},
   "outputs": [
    {
     "data": {
      "image/png": "[encoded data removed]",
      "text/plain": [
       "<Figure size 864x432 with 1 Axes>"
      ]
     },
     "metadata": {
      "needs_background": "light"
     },
     "output_type": "display_data"
    }
   ],
   "source": [
    "datos.plot(kind = 'bar', figsize=(12,6));\n",
    "\n",
    "plt.xlabel('Afiliados a la S.S', size=20)\n",
    "plt.ylabel('Millones de personas',size=20);"
   ]
  }
 ],
 "metadata": {
  "kernelspec": {
   "display_name": "ironhack",
   "language": "python",
   "name": "ironhack"
  },
  "language_info": {
   "codemirror_mode": {
    "name": "ipython",
    "version": 3
   },
   "file_extension": ".py",
   "mimetype": "text/x-python",
   "name": "python",
   "nbconvert_exporter": "python",
   "pygments_lexer": "ipython3",
   "version": "3.8.5"
  }
 },
 "nbformat": 4,
 "nbformat_minor": 5
}
